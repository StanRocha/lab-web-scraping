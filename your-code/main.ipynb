{
  "nbformat": 4,
  "nbformat_minor": 0,
  "metadata": {
    "kernelspec": {
      "display_name": "Python 3",
      "language": "python",
      "name": "python3"
    },
    "language_info": {
      "codemirror_mode": {
        "name": "ipython",
        "version": 3
      },
      "file_extension": ".py",
      "mimetype": "text/x-python",
      "name": "python",
      "nbconvert_exporter": "python",
      "pygments_lexer": "ipython3",
      "version": "3.8.8"
    },
    "colab": {
      "name": "main (1).ipynb",
      "provenance": [],
      "collapsed_sections": []
    }
  },
  "cells": [
    {
      "cell_type": "markdown",
      "metadata": {
        "id": "P-HRosSwviT4"
      },
      "source": [
        "# Web Scraping Lab\n",
        "\n",
        "You will find in this notebook some scrapy exercises to practise your scraping skills.\n",
        "\n",
        "**Tips:**\n",
        "\n",
        "- Check the response status code for each request to ensure you have obtained the intended content.\n",
        "- Print the response text in each request to understand the kind of info you are getting and its format.\n",
        "- Check for patterns in the response text to extract the data/info requested in each question.\n",
        "- Visit the urls below and take a look at their source code through Chrome DevTools. You'll need to identify the html tags, special class names, etc used in the html content you are expected to extract.\n",
        "\n",
        "**Resources**:\n",
        "- [Requests library](http://docs.python-requests.org/en/master/#the-user-guide)\n",
        "- [Beautiful Soup Doc](https://www.crummy.com/software/BeautifulSoup/bs4/doc/)\n",
        "- [Urllib](https://docs.python.org/3/library/urllib.html#module-urllib)\n",
        "- [re lib](https://docs.python.org/3/library/re.html)\n",
        "- [lxml lib](https://lxml.de/)\n",
        "- [Scrapy](https://scrapy.org/)\n",
        "- [List of HTTP status codes](https://en.wikipedia.org/wiki/List_of_HTTP_status_codes)\n",
        "- [HTML basics](http://www.simplehtmlguide.com/cheatsheet.php)\n",
        "- [CSS basics](https://www.cssbasics.com/#page_start)"
      ]
    },
    {
      "cell_type": "markdown",
      "metadata": {
        "id": "YECGk4H0viUB"
      },
      "source": [
        "#### Below are the libraries and modules you may need. `requests`,  `BeautifulSoup` and `pandas` are already imported for you. If you prefer to use additional libraries feel free to do it."
      ]
    },
    {
      "cell_type": "code",
      "metadata": {
        "id": "amS704FMviUC"
      },
      "source": [
        "import requests\n",
        "from bs4 import BeautifulSoup\n",
        "import pandas as pd\n",
        "from lxml import html"
      ],
      "execution_count": null,
      "outputs": []
    },
    {
      "cell_type": "markdown",
      "metadata": {
        "id": "MMF-c_L3viUE"
      },
      "source": [
        "#### Download, parse (using BeautifulSoup), and print the content from the Trending Developers page from GitHub:"
      ]
    },
    {
      "cell_type": "code",
      "metadata": {
        "id": "DQTVex1xviUF"
      },
      "source": [
        "# This is the url you will scrape in this exercise\n",
        "url = 'https://github.com/trending/developers'"
      ],
      "execution_count": null,
      "outputs": []
    },
    {
      "cell_type": "code",
      "metadata": {
        "colab": {
          "base_uri": "https://localhost:8080/"
        },
        "id": "l0lAhf9CviUF",
        "outputId": "710c4319-ccdf-4777-dccc-9cf5939697c7"
      },
      "source": [
        "# your code here\n",
        "response = requests.get(url)\n",
        "response"
      ],
      "execution_count": null,
      "outputs": [
        {
          "output_type": "execute_result",
          "data": {
            "text/plain": [
              "<Response [200]>"
            ]
          },
          "metadata": {},
          "execution_count": 3
        }
      ]
    },
    {
      "cell_type": "code",
      "metadata": {
        "id": "HA_cVa3oviUH"
      },
      "source": [
        "response.content\n",
        "soup = BeautifulSoup(response.content, 'html.parser')\n",
        "# soup\n",
        "# print(soup.prettify())"
      ],
      "execution_count": null,
      "outputs": []
    },
    {
      "cell_type": "markdown",
      "metadata": {
        "id": "vCSylRBUviUJ"
      },
      "source": [
        "#### 1. Display the names of the trending developers retrieved in the previous step.\n",
        "\n",
        "Your output should be a Python list of developer names. Each name should not contain any html tag.\n",
        "\n",
        "**Instructions:**\n",
        "\n",
        "1. Find out the html tag and class names used for the developer names. You can achieve this using Chrome DevTools or clicking in 'Inspect' on any browser. Here is an example:\n",
        "\n",
        "![title](example_1.png)\n",
        "\n",
        "2. Use BeautifulSoup `find_all()` to extract all the html elements that contain the developer names. Hint: pass in the `attrs` parameter to specify the class.\n",
        "\n",
        "3. Loop through the elements found and get the text for each of them.\n",
        "\n",
        "4. While you are at it, use string manipulation techniques to replace whitespaces and linebreaks (i.e. `\\n`) in the *text* of each html element. Use a list to store the clean names. Hint: you may also use `.get_text()` instead of `.text` and pass in the desired parameters to do some string manipulation (check the documentation).\n",
        "\n",
        "5. Print the list of names.\n",
        "\n",
        "Your output should look like below:\n",
        "\n",
        "```\n",
        "['trimstray (@trimstray)',\n",
        " 'joewalnes (JoeWalnes)',\n",
        " 'charlax (Charles-AxelDein)',\n",
        " 'ForrestKnight (ForrestKnight)',\n",
        " 'revery-ui (revery-ui)',\n",
        " 'alibaba (Alibaba)',\n",
        " 'Microsoft (Microsoft)',\n",
        " 'github (GitHub)',\n",
        " 'facebook (Facebook)',\n",
        " 'boazsegev (Bo)',\n",
        " 'google (Google)',\n",
        " 'cloudfetch',\n",
        " 'sindresorhus (SindreSorhus)',\n",
        " 'tensorflow',\n",
        " 'apache (TheApacheSoftwareFoundation)',\n",
        " 'DevonCrawford (DevonCrawford)',\n",
        " 'ARMmbed (ArmMbed)',\n",
        " 'vuejs (vuejs)',\n",
        " 'fastai (fast.ai)',\n",
        " 'QiShaoXuan (Qi)',\n",
        " 'joelparkerhenderson (JoelParkerHenderson)',\n",
        " 'torvalds (LinusTorvalds)',\n",
        " 'CyC2018',\n",
        " 'komeiji-satori (神楽坂覚々)',\n",
        " 'script-8']\n",
        " ```"
      ]
    },
    {
      "cell_type": "code",
      "metadata": {
        "colab": {
          "base_uri": "https://localhost:8080/"
        },
        "id": "GVTzHJcoviUK",
        "outputId": "7713156b-331f-4fc0-c426-883ff7afb729"
      },
      "source": [
        "people_tags = soup.find_all('h1', {\"class\": \"h3 lh-condensed\"})\n",
        "\n",
        "# get the text of the child of each element in list\n",
        "people = [tag.a.text.strip() for tag in people_tags]\n",
        "\n",
        "people_nick_tags = soup.find_all('p', {\"class\": \"f4\"})\n",
        "people_nick = [tag.text.strip() for tag in people_nick_tags][1:]\n",
        "\n",
        "hot_devs = [people[i] + ' (' + people_nick[i] + ')' for i in range(len(people))]\n",
        "hot_devs"
      ],
      "execution_count": null,
      "outputs": [
        {
          "output_type": "execute_result",
          "data": {
            "text/plain": [
              "['Vladimir Mihailenco (vmihailenco)',\n",
              " 'PySimpleGUI (PySimpleGUI)',\n",
              " 'Will McGugan (willmcgugan)',\n",
              " 'Lee Robinson (leerob)',\n",
              " 'LoveSy (yujincheng08)',\n",
              " 'Jose Diaz-Gonzalez (josegonzalez)',\n",
              " 'Franck Nijhof (frenck)',\n",
              " 'Anurag Hazra (anuraghazra)',\n",
              " 'Raphaël (sundowndev)',\n",
              " 'Joe Masilotti (joemasilotti)',\n",
              " 'Jaco (jacogr)',\n",
              " 'Daishi Kato (dai-shi)',\n",
              " 'Arseny Kapoulkine (zeux)',\n",
              " 'Emil Ernerfeldt (emilk)',\n",
              " 'Daniel Martí (mvdan)',\n",
              " 'Teemu R. (rytilahti)',\n",
              " 'Alex Gaynor (alex)',\n",
              " 'Gajus Kuizinas (gajus)',\n",
              " 'Felix Angelov (felangel)',\n",
              " 'Balázs Orbán (balazsorban44)',\n",
              " 'Jan De Dobbeleer (JanDeDobbeleer)',\n",
              " 'Henning Dieterichs (hediet)',\n",
              " 'Copple (kiwicopple)',\n",
              " 'van Hauser (vanhauser-thc)',\n",
              " 'Indrajeet Patil (IndrajeetPatil)']"
            ]
          },
          "metadata": {},
          "execution_count": 5
        }
      ]
    },
    {
      "cell_type": "code",
      "metadata": {
        "id": "T53qOqY7viUM"
      },
      "source": [
        ""
      ],
      "execution_count": null,
      "outputs": []
    },
    {
      "cell_type": "markdown",
      "metadata": {
        "id": "byUtcOTHviUM"
      },
      "source": [
        "#### 1.1. Display the trending Python repositories in GitHub.\n",
        "\n",
        "The steps to solve this problem is similar to the previous one except that you need to find out the repository names instead of developer names."
      ]
    },
    {
      "cell_type": "code",
      "metadata": {
        "id": "rzZXB39_viUN"
      },
      "source": [
        "# This is the url you will scrape in this exercise\n",
        "url2 = 'https://github.com/trending/python?since=daily'"
      ],
      "execution_count": null,
      "outputs": []
    },
    {
      "cell_type": "code",
      "metadata": {
        "colab": {
          "base_uri": "https://localhost:8080/"
        },
        "id": "p1CoM7vNviUN",
        "outputId": "83569072-3e80-49a2-d73f-e72f60cffecb"
      },
      "source": [
        "# your code here\n",
        "response1 = requests.get(url2)\n",
        "response1"
      ],
      "execution_count": null,
      "outputs": [
        {
          "output_type": "execute_result",
          "data": {
            "text/plain": [
              "<Response [200]>"
            ]
          },
          "metadata": {},
          "execution_count": 7
        }
      ]
    },
    {
      "cell_type": "code",
      "metadata": {
        "id": "cnca7F3KviUO"
      },
      "source": [
        "response.content\n",
        "soup1 = BeautifulSoup(response1.content, 'html.parser')\n",
        "# soup1\n",
        "# print(soup1.prettify())"
      ],
      "execution_count": null,
      "outputs": []
    },
    {
      "cell_type": "code",
      "metadata": {
        "colab": {
          "base_uri": "https://localhost:8080/"
        },
        "id": "gO1wjGLkviUP",
        "outputId": "f6af4fb0-c6b9-443b-d7fe-1c5472e4fefd"
      },
      "source": [
        "dev_names = soup1.find_all('h1', attrs={'class': 'h3 lh-condensed'})\n",
        "\n",
        "names = [tag.text.strip().split('/').pop().replace('\\n\\n      ','') for tag in dev_names]\n",
        "names\n"
      ],
      "execution_count": null,
      "outputs": [
        {
          "output_type": "execute_result",
          "data": {
            "text/plain": [
              "['openpilot',\n",
              " 'python-mini-projects',\n",
              " 'Python',\n",
              " 'manim',\n",
              " 'devops-exercises',\n",
              " 'Awesome-Linux-Software',\n",
              " 'OSX-KVM',\n",
              " 'youtube-dl',\n",
              " 'yt-dlp',\n",
              " 'botty',\n",
              " 'PySimpleGUI',\n",
              " 'covid-19-data',\n",
              " 'APT-Hunter',\n",
              " 'redun',\n",
              " 'GHunt',\n",
              " 'RsaCtfTool',\n",
              " 'backtrader',\n",
              " 'sherlock',\n",
              " 'AI-Writer',\n",
              " 'widevine-L3-WEB-DL-Script',\n",
              " 'freqtrade',\n",
              " 'discord.py',\n",
              " 'learn-python',\n",
              " 'core',\n",
              " 'HeyTapTask']"
            ]
          },
          "metadata": {},
          "execution_count": 10
        }
      ]
    },
    {
      "cell_type": "markdown",
      "metadata": {
        "id": "-8pgxL6lviUQ"
      },
      "source": [
        "#### 2. Display all the image links from Walt Disney wikipedia page.\n",
        "Hint: use `.get()` to access information inside tags. Check out the documentation."
      ]
    },
    {
      "cell_type": "code",
      "metadata": {
        "id": "v_iw74hBviUQ"
      },
      "source": [
        "# This is the url you will scrape in this exercise\n",
        "url3 = 'https://en.wikipedia.org/wiki/Walt_Disney'"
      ],
      "execution_count": null,
      "outputs": []
    },
    {
      "cell_type": "code",
      "metadata": {
        "colab": {
          "base_uri": "https://localhost:8080/"
        },
        "id": "AbSp107_viUR",
        "outputId": "40e0f299-a60f-4f31-dbee-783b8468d9a5"
      },
      "source": [
        "# your code here\n",
        "response2 = requests.get(url3)\n",
        "# response2\n",
        "response2.content\n",
        "soup2 = BeautifulSoup(response2.content, 'html.parser')\n",
        "# soup2\n",
        "# print(soup2.prettify())\n",
        "images = soup2.find_all('a', attrs={'class': 'image'})\n",
        "\n",
        "image=['https://en.wikipedia.org/' + image['href'] for image in images]\n",
        "image\n",
        "\n",
        "for x in image:\n",
        "    print(x)"
      ],
      "execution_count": null,
      "outputs": [
        {
          "output_type": "stream",
          "name": "stdout",
          "text": [
            "https://en.wikipedia.org//wiki/File:Walt_Disney_1946.JPG\n",
            "https://en.wikipedia.org//wiki/File:Walt_Disney_1942_signature.svg\n",
            "https://en.wikipedia.org//wiki/File:Walt_Disney_envelope_ca._1921.jpg\n",
            "https://en.wikipedia.org//wiki/File:Trolley_Troubles_poster.jpg\n",
            "https://en.wikipedia.org//wiki/File:Steamboat-willie.jpg\n",
            "https://en.wikipedia.org//wiki/File:Walt_Disney_1935.jpg\n",
            "https://en.wikipedia.org//wiki/File:Walt_Disney_Snow_white_1937_trailer_screenshot_(13).jpg\n",
            "https://en.wikipedia.org//wiki/File:Disney_drawing_goofy.jpg\n",
            "https://en.wikipedia.org//wiki/File:DisneySchiphol1951.jpg\n",
            "https://en.wikipedia.org//wiki/File:WaltDisneyplansDisneylandDec1954.jpg\n",
            "https://en.wikipedia.org//wiki/File:Walt_disney_portrait_right.jpg\n",
            "https://en.wikipedia.org//wiki/File:Walt_Disney_Grave.JPG\n",
            "https://en.wikipedia.org//wiki/File:Roy_O._Disney_with_Company_at_Press_Conference.jpg\n",
            "https://en.wikipedia.org//wiki/File:Disney_Display_Case.JPG\n",
            "https://en.wikipedia.org//wiki/File:Disney1968.jpg\n",
            "https://en.wikipedia.org//wiki/File:Disneyland_Resort_logo.svg\n",
            "https://en.wikipedia.org//wiki/File:Animation_disc.svg\n",
            "https://en.wikipedia.org//wiki/File:P_vip.svg\n",
            "https://en.wikipedia.org//wiki/File:Magic_Kingdom_castle.jpg\n",
            "https://en.wikipedia.org//wiki/File:Video-x-generic.svg\n",
            "https://en.wikipedia.org//wiki/File:Flag_of_Los_Angeles_County,_California.svg\n",
            "https://en.wikipedia.org//wiki/File:Blank_television_set.svg\n",
            "https://en.wikipedia.org//wiki/File:Flag_of_the_United_States.svg\n"
          ]
        }
      ]
    },
    {
      "cell_type": "markdown",
      "metadata": {
        "id": "YSSVhJ94viUS"
      },
      "source": [
        "#### 2.1. List all language names and number of related articles in the order they appear in wikipedia.org."
      ]
    },
    {
      "cell_type": "code",
      "metadata": {
        "id": "GLNo2ft2viUT"
      },
      "source": [
        "# This is the url you will scrape in this exercise\n",
        "url4 = 'https://www.wikipedia.org/'"
      ],
      "execution_count": null,
      "outputs": []
    },
    {
      "cell_type": "code",
      "metadata": {
        "colab": {
          "base_uri": "https://localhost:8080/"
        },
        "id": "Nj4DQ4rPviUU",
        "outputId": "ddc77163-02f1-4783-edd6-082996926e6a"
      },
      "source": [
        "# your code here\n",
        "response3 = requests.get(url4)\n",
        "# response2\n",
        "response3.content\n",
        "soup3 = BeautifulSoup(response3.content, 'html.parser')\n",
        "# soup3\n",
        "# print(soup3.prettify())\n",
        "lang_soup = soup3.find_all('div', attrs={'class': 'central-featured'})\n",
        "\n",
        "\n",
        "\n",
        "list_lang= []\n",
        "for i in range(len(lang_soup[0].find_all('a'))):\n",
        "  list_lang.append(lang_soup[0].find_all('a')[i].text.strip().replace('\\xa0','').replace('\\n',' '))\n",
        "\n",
        "\n",
        "list_lang"
      ],
      "execution_count": null,
      "outputs": [
        {
          "output_type": "execute_result",
          "data": {
            "text/plain": [
              "['English 6383000+ articles',\n",
              " '日本語 1292000+ 記事',\n",
              " 'Русский 1756000+ статей',\n",
              " 'Deutsch 2617000+ Artikel',\n",
              " 'Español 1717000+ artículos',\n",
              " 'Français 2362000+ articles',\n",
              " '中文 1231000+ 條目',\n",
              " 'Italiano 1718000+ voci',\n",
              " 'Português 1074000+ artigos',\n",
              " 'Polski 1490000+ haseł']"
            ]
          },
          "metadata": {},
          "execution_count": 47
        }
      ]
    },
    {
      "cell_type": "markdown",
      "metadata": {
        "id": "UAGFaxH4viUU"
      },
      "source": [
        "#### 2.2. Display the top 10 languages by number of native speakers stored in a pandas dataframe.\n",
        "Hint: After finding the correct table you want to analyse, you can use a nested **for** loop to find the elements row by row (check out the 'td' and 'tr' tags). <br>An easier way to do it is using pd.read_html(), check out documentation [here](https://pandas.pydata.org/pandas-docs/version/0.23.4/generated/pandas.read_html.html)."
      ]
    },
    {
      "cell_type": "code",
      "metadata": {
        "id": "50FYAgq9viUV"
      },
      "source": [
        "# This is the url you will scrape in this exercise\n",
        "url5 = 'https://en.wikipedia.org/wiki/List_of_languages_by_number_of_native_speakers'"
      ],
      "execution_count": null,
      "outputs": []
    },
    {
      "cell_type": "code",
      "metadata": {
        "id": "mXWoeFBSviUV"
      },
      "source": [
        "# your code here\n",
        "response4 = requests.get(url5)\n",
        "# response2\n",
        "response4.content\n",
        "soup4 = BeautifulSoup(response4.content, 'html.parser')\n",
        "# soup4\n",
        "# print(soup4.prettify())"
      ],
      "execution_count": null,
      "outputs": []
    },
    {
      "cell_type": "code",
      "metadata": {
        "colab": {
          "base_uri": "https://localhost:8080/",
          "height": 362
        },
        "id": "7IbHRNjn3kJn",
        "outputId": "f2809b66-b5c1-484d-ca91-2a829788f6e6"
      },
      "source": [
        "\n",
        "pd.read_html(url5)[1].head(10)"
      ],
      "execution_count": null,
      "outputs": [
        {
          "output_type": "execute_result",
          "data": {
            "text/html": [
              "<div>\n",
              "<style scoped>\n",
              "    .dataframe tbody tr th:only-of-type {\n",
              "        vertical-align: middle;\n",
              "    }\n",
              "\n",
              "    .dataframe tbody tr th {\n",
              "        vertical-align: top;\n",
              "    }\n",
              "\n",
              "    .dataframe thead th {\n",
              "        text-align: right;\n",
              "    }\n",
              "</style>\n",
              "<table border=\"1\" class=\"dataframe\">\n",
              "  <thead>\n",
              "    <tr style=\"text-align: right;\">\n",
              "      <th></th>\n",
              "      <th>Rank</th>\n",
              "      <th>Language</th>\n",
              "      <th>Speakers(millions)</th>\n",
              "      <th>Percentageof world pop.(March 2019)[8]</th>\n",
              "      <th>Language family</th>\n",
              "      <th>Branch</th>\n",
              "    </tr>\n",
              "  </thead>\n",
              "  <tbody>\n",
              "    <tr>\n",
              "      <th>0</th>\n",
              "      <td>1</td>\n",
              "      <td>Mandarin Chinese</td>\n",
              "      <td>918.0</td>\n",
              "      <td>11.922%</td>\n",
              "      <td>Sino-Tibetan</td>\n",
              "      <td>Sinitic</td>\n",
              "    </tr>\n",
              "    <tr>\n",
              "      <th>1</th>\n",
              "      <td>2</td>\n",
              "      <td>Spanish</td>\n",
              "      <td>480.0</td>\n",
              "      <td>5.994%</td>\n",
              "      <td>Indo-European</td>\n",
              "      <td>Romance</td>\n",
              "    </tr>\n",
              "    <tr>\n",
              "      <th>2</th>\n",
              "      <td>3</td>\n",
              "      <td>English</td>\n",
              "      <td>379.0</td>\n",
              "      <td>4.922%</td>\n",
              "      <td>Indo-European</td>\n",
              "      <td>Germanic</td>\n",
              "    </tr>\n",
              "    <tr>\n",
              "      <th>3</th>\n",
              "      <td>4</td>\n",
              "      <td>Hindi (sanskritised Hindustani)[9]</td>\n",
              "      <td>341.0</td>\n",
              "      <td>4.429%</td>\n",
              "      <td>Indo-European</td>\n",
              "      <td>Indo-Aryan</td>\n",
              "    </tr>\n",
              "    <tr>\n",
              "      <th>4</th>\n",
              "      <td>5</td>\n",
              "      <td>Bengali</td>\n",
              "      <td>300.0</td>\n",
              "      <td>4.000%</td>\n",
              "      <td>Indo-European</td>\n",
              "      <td>Indo-Aryan</td>\n",
              "    </tr>\n",
              "    <tr>\n",
              "      <th>5</th>\n",
              "      <td>6</td>\n",
              "      <td>Portuguese</td>\n",
              "      <td>221.0</td>\n",
              "      <td>2.870%</td>\n",
              "      <td>Indo-European</td>\n",
              "      <td>Romance</td>\n",
              "    </tr>\n",
              "    <tr>\n",
              "      <th>6</th>\n",
              "      <td>7</td>\n",
              "      <td>Russian</td>\n",
              "      <td>154.0</td>\n",
              "      <td>2.000%</td>\n",
              "      <td>Indo-European</td>\n",
              "      <td>Balto-Slavic</td>\n",
              "    </tr>\n",
              "    <tr>\n",
              "      <th>7</th>\n",
              "      <td>8</td>\n",
              "      <td>Japanese</td>\n",
              "      <td>128.0</td>\n",
              "      <td>1.662%</td>\n",
              "      <td>Japonic</td>\n",
              "      <td>Japanese</td>\n",
              "    </tr>\n",
              "    <tr>\n",
              "      <th>8</th>\n",
              "      <td>9</td>\n",
              "      <td>Western Punjabi[10]</td>\n",
              "      <td>92.7</td>\n",
              "      <td>1.204%</td>\n",
              "      <td>Indo-European</td>\n",
              "      <td>Indo-Aryan</td>\n",
              "    </tr>\n",
              "    <tr>\n",
              "      <th>9</th>\n",
              "      <td>10</td>\n",
              "      <td>Marathi</td>\n",
              "      <td>83.1</td>\n",
              "      <td>1.079%</td>\n",
              "      <td>Indo-European</td>\n",
              "      <td>Indo-Aryan</td>\n",
              "    </tr>\n",
              "  </tbody>\n",
              "</table>\n",
              "</div>"
            ],
            "text/plain": [
              "   Rank                            Language  ...  Language family        Branch\n",
              "0     1                    Mandarin Chinese  ...     Sino-Tibetan       Sinitic\n",
              "1     2                             Spanish  ...    Indo-European       Romance\n",
              "2     3                             English  ...    Indo-European      Germanic\n",
              "3     4  Hindi (sanskritised Hindustani)[9]  ...    Indo-European    Indo-Aryan\n",
              "4     5                             Bengali  ...    Indo-European    Indo-Aryan\n",
              "5     6                          Portuguese  ...    Indo-European       Romance\n",
              "6     7                             Russian  ...    Indo-European  Balto-Slavic\n",
              "7     8                            Japanese  ...          Japonic      Japanese\n",
              "8     9                 Western Punjabi[10]  ...    Indo-European    Indo-Aryan\n",
              "9    10                             Marathi  ...    Indo-European    Indo-Aryan\n",
              "\n",
              "[10 rows x 6 columns]"
            ]
          },
          "metadata": {},
          "execution_count": 61
        }
      ]
    },
    {
      "cell_type": "markdown",
      "metadata": {
        "id": "o4m8W2dJviUV"
      },
      "source": [
        "#### 3. Display IMDB's top 250 data (movie name, initial release, director name and stars) as a pandas dataframe.\n",
        "Hint: If you hover over the title of the movie, you should see the director's name. Can you find where it's stored in the html?"
      ]
    },
    {
      "cell_type": "code",
      "metadata": {
        "id": "WNUWDHCEviUW"
      },
      "source": [
        "# This is the url you will scrape in this exercise \n",
        "url6 = 'https://www.imdb.com/chart/top'"
      ],
      "execution_count": null,
      "outputs": []
    },
    {
      "cell_type": "code",
      "metadata": {
        "id": "Pj3-g0hOviUW"
      },
      "source": [
        "# your code here\n",
        "response5 = requests.get(url6)\n",
        "# response2\n",
        "response5.content\n",
        "soup5 = BeautifulSoup(response5.content, 'html.parser')\n",
        "# soup5\n",
        "# print(soup.prettify())\n"
      ],
      "execution_count": null,
      "outputs": []
    },
    {
      "cell_type": "code",
      "metadata": {
        "id": "5L7LVg2S66m7"
      },
      "source": [
        "imb = soup5.find_all('td', attrs={'class': 'titleColumn'})\n",
        "# display(imb)\n",
        "dummy=str(imb[1].find_all('a')[0]).replace('<a href=\"/title/tt0111161/\" title=\"','').replace('</a','').replace('>','(dir.),').split('(dir.),')\n",
        "# imb[0]\n",
        "# lang_soup[0].find_all('a')[i].text.strip().replace('\\xa0','').replace('\\n',' ')"
      ],
      "execution_count": null,
      "outputs": []
    },
    {
      "cell_type": "code",
      "metadata": {
        "colab": {
          "base_uri": "https://localhost:8080/",
          "height": 35
        },
        "id": "X7ODWDORBOmk",
        "outputId": "36d41263-2519-4af9-b762-8a0143ba2941"
      },
      "source": [
        "imb[0].span.text"
      ],
      "execution_count": null,
      "outputs": [
        {
          "output_type": "execute_result",
          "data": {
            "application/vnd.google.colaboratory.intrinsic+json": {
              "type": "string"
            },
            "text/plain": [
              "'(1994)'"
            ]
          },
          "metadata": {},
          "execution_count": 196
        }
      ]
    },
    {
      "cell_type": "code",
      "metadata": {
        "id": "MgNm_3hLHX9z"
      },
      "source": [
        "# imb.span.text"
      ],
      "execution_count": null,
      "outputs": []
    },
    {
      "cell_type": "code",
      "metadata": {
        "id": "kdPOzF18DS4c"
      },
      "source": [
        "year=[value.span.text.replace('(', '').replace(')','') for value in imb]\n",
        "# year"
      ],
      "execution_count": null,
      "outputs": []
    },
    {
      "cell_type": "code",
      "metadata": {
        "id": "SD4oCqyECUDr"
      },
      "source": [
        "dir_actor= [movie.a.get('title').split('(dir.),') for movie in imb]\n",
        "# dir_actor"
      ],
      "execution_count": null,
      "outputs": []
    },
    {
      "cell_type": "code",
      "metadata": {
        "colab": {
          "base_uri": "https://localhost:8080/",
          "height": 422
        },
        "id": "UzGUsreYET4k",
        "outputId": "854721cd-b999-4867-a409-a9e6becac2cc"
      },
      "source": [
        "concat_list= zip(dir_actor,year)\n",
        "# list(concat_list)\n",
        "\n",
        "movies_df=pd.DataFrame(dir_actor)\n",
        "movies_df.columns=['Director', 'Actor']\n",
        "movies_df['years']=pd.DataFrame(year)\n",
        "\n",
        "movies_df"
      ],
      "execution_count": null,
      "outputs": [
        {
          "output_type": "execute_result",
          "data": {
            "text/html": [
              "<div>\n",
              "<style scoped>\n",
              "    .dataframe tbody tr th:only-of-type {\n",
              "        vertical-align: middle;\n",
              "    }\n",
              "\n",
              "    .dataframe tbody tr th {\n",
              "        vertical-align: top;\n",
              "    }\n",
              "\n",
              "    .dataframe thead th {\n",
              "        text-align: right;\n",
              "    }\n",
              "</style>\n",
              "<table border=\"1\" class=\"dataframe\">\n",
              "  <thead>\n",
              "    <tr style=\"text-align: right;\">\n",
              "      <th></th>\n",
              "      <th>Director</th>\n",
              "      <th>Actor</th>\n",
              "      <th>years</th>\n",
              "    </tr>\n",
              "  </thead>\n",
              "  <tbody>\n",
              "    <tr>\n",
              "      <th>0</th>\n",
              "      <td>Frank Darabont</td>\n",
              "      <td>Tim Robbins, Morgan Freeman</td>\n",
              "      <td>1994</td>\n",
              "    </tr>\n",
              "    <tr>\n",
              "      <th>1</th>\n",
              "      <td>Francis Ford Coppola</td>\n",
              "      <td>Marlon Brando, Al Pacino</td>\n",
              "      <td>1972</td>\n",
              "    </tr>\n",
              "    <tr>\n",
              "      <th>2</th>\n",
              "      <td>Francis Ford Coppola</td>\n",
              "      <td>Al Pacino, Robert De Niro</td>\n",
              "      <td>1974</td>\n",
              "    </tr>\n",
              "    <tr>\n",
              "      <th>3</th>\n",
              "      <td>Christopher Nolan</td>\n",
              "      <td>Christian Bale, Heath Ledger</td>\n",
              "      <td>2008</td>\n",
              "    </tr>\n",
              "    <tr>\n",
              "      <th>4</th>\n",
              "      <td>Sidney Lumet</td>\n",
              "      <td>Henry Fonda, Lee J. Cobb</td>\n",
              "      <td>1957</td>\n",
              "    </tr>\n",
              "    <tr>\n",
              "      <th>...</th>\n",
              "      <td>...</td>\n",
              "      <td>...</td>\n",
              "      <td>...</td>\n",
              "    </tr>\n",
              "    <tr>\n",
              "      <th>245</th>\n",
              "      <td>Rob Reiner</td>\n",
              "      <td>Cary Elwes, Mandy Patinkin</td>\n",
              "      <td>1987</td>\n",
              "    </tr>\n",
              "    <tr>\n",
              "      <th>246</th>\n",
              "      <td>Federico Fellini</td>\n",
              "      <td>Giulietta Masina, François Périer</td>\n",
              "      <td>1957</td>\n",
              "    </tr>\n",
              "    <tr>\n",
              "      <th>247</th>\n",
              "      <td>Wim Wenders</td>\n",
              "      <td>Harry Dean Stanton, Nastassja Kinski</td>\n",
              "      <td>1984</td>\n",
              "    </tr>\n",
              "    <tr>\n",
              "      <th>248</th>\n",
              "      <td>Krzysztof Kieslowski</td>\n",
              "      <td>Irène Jacob, Jean-Louis Trintignant</td>\n",
              "      <td>1994</td>\n",
              "    </tr>\n",
              "    <tr>\n",
              "      <th>249</th>\n",
              "      <td>Zaza Urushadze</td>\n",
              "      <td>Lembit Ulfsak, Elmo Nüganen</td>\n",
              "      <td>2013</td>\n",
              "    </tr>\n",
              "  </tbody>\n",
              "</table>\n",
              "<p>250 rows × 3 columns</p>\n",
              "</div>"
            ],
            "text/plain": [
              "                  Director                                  Actor years\n",
              "0          Frank Darabont             Tim Robbins, Morgan Freeman  1994\n",
              "1    Francis Ford Coppola                Marlon Brando, Al Pacino  1972\n",
              "2    Francis Ford Coppola               Al Pacino, Robert De Niro  1974\n",
              "3       Christopher Nolan            Christian Bale, Heath Ledger  2008\n",
              "4            Sidney Lumet                Henry Fonda, Lee J. Cobb  1957\n",
              "..                     ...                                    ...   ...\n",
              "245            Rob Reiner              Cary Elwes, Mandy Patinkin  1987\n",
              "246      Federico Fellini       Giulietta Masina, François Périer  1957\n",
              "247           Wim Wenders    Harry Dean Stanton, Nastassja Kinski  1984\n",
              "248  Krzysztof Kieslowski     Irène Jacob, Jean-Louis Trintignant  1994\n",
              "249        Zaza Urushadze             Lembit Ulfsak, Elmo Nüganen  2013\n",
              "\n",
              "[250 rows x 3 columns]"
            ]
          },
          "metadata": {},
          "execution_count": 200
        }
      ]
    },
    {
      "cell_type": "markdown",
      "metadata": {
        "id": "ptm2QaehviUW"
      },
      "source": [
        "#### 3.1. Display the movie name, year and a brief summary of the top 10 random movies (IMDB) as a pandas dataframe."
      ]
    },
    {
      "cell_type": "code",
      "metadata": {
        "id": "avxZxSQoviUW"
      },
      "source": [
        "#This is the url you will scrape in this exercise\n",
        "url7 = 'https://www.imdb.com/list/ls009796553/'"
      ],
      "execution_count": null,
      "outputs": []
    },
    {
      "cell_type": "code",
      "metadata": {
        "id": "NWdvFfYjviUX"
      },
      "source": [
        "# your code here\n",
        "# your code here\n",
        "response6 = requests.get(url7)\n",
        "# response6\n",
        "response6.content\n",
        "soup6 = BeautifulSoup(response6.content, 'html.parser')\n",
        "# soup6\n",
        "# print(soup.prettify())"
      ],
      "execution_count": null,
      "outputs": []
    },
    {
      "cell_type": "code",
      "metadata": {
        "id": "7GU9iT7QM-D6"
      },
      "source": [
        "imb_10 = soup6.find_all('div', attrs={'class': 'lister-item-content'})\n",
        "# imb_10"
      ],
      "execution_count": null,
      "outputs": []
    },
    {
      "cell_type": "code",
      "metadata": {
        "colab": {
          "base_uri": "https://localhost:8080/",
          "height": 35
        },
        "id": "HLk2hdVbIFDM",
        "outputId": "7bef855f-9fb9-4a6d-f2de-e750c9455acd"
      },
      "source": [
        "imb_10[5].a.text"
      ],
      "execution_count": null,
      "outputs": [
        {
          "output_type": "execute_result",
          "data": {
            "application/vnd.google.colaboratory.intrinsic+json": {
              "type": "string"
            },
            "text/plain": [
              "'A Time to Kill'"
            ]
          },
          "metadata": {},
          "execution_count": 234
        }
      ]
    },
    {
      "cell_type": "code",
      "metadata": {
        "id": "RI_dAH8jNuki"
      },
      "source": [
        "new=[]\n",
        "year=[]\n",
        "for i in range(len(imb_10)):\n",
        "  m=imb_10[i].h3.text.split('.').pop().replace('\\n','').replace('\\n','').replace(')','').split('(')\n",
        "  if len(m)>2:\n",
        "    new.append(' '.join(m[:2]))\n",
        "  else:\n",
        "    new.append(m[0])\n",
        "  year.append(m[-1])\n",
        "  \n",
        "\n",
        "# display(new)\n",
        "# display(year)\n",
        "movies_df=pd.DataFrame(zip(new,year))\n",
        "\n"
      ],
      "execution_count": null,
      "outputs": []
    },
    {
      "cell_type": "code",
      "metadata": {
        "colab": {
          "base_uri": "https://localhost:8080/",
          "height": 362
        },
        "id": "BDls-WeFGmeU",
        "outputId": "6b96a85b-4dee-4d57-8828-9973a4bfaf7d"
      },
      "source": [
        "# //*[@id=\"main\"]/div/div[3]/div[3]/div[2]/div[2]/p[2]/text()\n",
        "try_xpath=html.fromstring(response6.content)\n",
        "buyers = try_xpath.xpath('//*[@id=\"main\"]/div/div[3]/div[3]/div[1]/div[2]/p[2]/text()')\n",
        "# buyers\n",
        "sumary=[]\n",
        "for i in range(len(buyers)):\n",
        "  sumary.append(try_xpath.xpath('//*[@id=\"main\"]/div/div[3]/div[3]/div[\"i\"]/div[2]/p[2]/text()'))\n",
        "\n",
        "\n",
        "finals = [strings for strings in sumary[0]]\n",
        "finals[0:10]\n",
        "pd.DataFrame(finals[0:10])\n",
        "\n",
        "# # your code here\n",
        "# # your code here\n",
        "# response6 = requests.get(url7)\n",
        "# # response6\n",
        "# response6.content\n",
        "# soup6 = BeautifulSoup(response6.content, 'html.parser')\n",
        "# # soup6\n",
        "# # print(soup.prettify())"
      ],
      "execution_count": null,
      "outputs": [
        {
          "output_type": "execute_result",
          "data": {
            "text/html": [
              "<div>\n",
              "<style scoped>\n",
              "    .dataframe tbody tr th:only-of-type {\n",
              "        vertical-align: middle;\n",
              "    }\n",
              "\n",
              "    .dataframe tbody tr th {\n",
              "        vertical-align: top;\n",
              "    }\n",
              "\n",
              "    .dataframe thead th {\n",
              "        text-align: right;\n",
              "    }\n",
              "</style>\n",
              "<table border=\"1\" class=\"dataframe\">\n",
              "  <thead>\n",
              "    <tr style=\"text-align: right;\">\n",
              "      <th></th>\n",
              "      <th>0</th>\n",
              "    </tr>\n",
              "  </thead>\n",
              "  <tbody>\n",
              "    <tr>\n",
              "      <th>0</th>\n",
              "      <td>\\nThe monstrous spirit of a slain child murder...</td>\n",
              "    </tr>\n",
              "    <tr>\n",
              "      <th>1</th>\n",
              "      <td>\\nThe victims of an encephalitis epidemic many...</td>\n",
              "    </tr>\n",
              "    <tr>\n",
              "      <th>2</th>\n",
              "      <td>\\nTwo sisters join the first female profession...</td>\n",
              "    </tr>\n",
              "    <tr>\n",
              "      <th>3</th>\n",
              "      <td>\\nA father becomes worried when a local gangst...</td>\n",
              "    </tr>\n",
              "    <tr>\n",
              "      <th>4</th>\n",
              "      <td>\\nWhen a boy prays for a chance to have a fami...</td>\n",
              "    </tr>\n",
              "    <tr>\n",
              "      <th>5</th>\n",
              "      <td>\\nIn Canton, Mississippi, a fearless young law...</td>\n",
              "    </tr>\n",
              "    <tr>\n",
              "      <th>6</th>\n",
              "      <td>\\nIn 1839, the revolt of Mende captives aboard...</td>\n",
              "    </tr>\n",
              "    <tr>\n",
              "      <th>7</th>\n",
              "      <td>\\nA \"National Geographic\" film crew is taken h...</td>\n",
              "    </tr>\n",
              "    <tr>\n",
              "      <th>8</th>\n",
              "      <td>\\nRussell, single father balances his work as ...</td>\n",
              "    </tr>\n",
              "    <tr>\n",
              "      <th>9</th>\n",
              "      <td>\\nA former neo-nazi skinhead tries to prevent ...</td>\n",
              "    </tr>\n",
              "  </tbody>\n",
              "</table>\n",
              "</div>"
            ],
            "text/plain": [
              "                                                   0\n",
              "0  \\nThe monstrous spirit of a slain child murder...\n",
              "1  \\nThe victims of an encephalitis epidemic many...\n",
              "2  \\nTwo sisters join the first female profession...\n",
              "3  \\nA father becomes worried when a local gangst...\n",
              "4  \\nWhen a boy prays for a chance to have a fami...\n",
              "5  \\nIn Canton, Mississippi, a fearless young law...\n",
              "6  \\nIn 1839, the revolt of Mende captives aboard...\n",
              "7  \\nA \"National Geographic\" film crew is taken h...\n",
              "8  \\nRussell, single father balances his work as ...\n",
              "9  \\nA former neo-nazi skinhead tries to prevent ..."
            ]
          },
          "metadata": {},
          "execution_count": 362
        }
      ]
    },
    {
      "cell_type": "code",
      "metadata": {
        "colab": {
          "base_uri": "https://localhost:8080/",
          "height": 362
        },
        "id": "RIaZvKlfdbm8",
        "outputId": "61112dfb-d6a0-4a9a-8b48-b898197bb220"
      },
      "source": [
        "movies_df['sumary']=pd.DataFrame(finals[0:10])\n",
        "movies_df.head(10)"
      ],
      "execution_count": null,
      "outputs": [
        {
          "output_type": "execute_result",
          "data": {
            "text/html": [
              "<div>\n",
              "<style scoped>\n",
              "    .dataframe tbody tr th:only-of-type {\n",
              "        vertical-align: middle;\n",
              "    }\n",
              "\n",
              "    .dataframe tbody tr th {\n",
              "        vertical-align: top;\n",
              "    }\n",
              "\n",
              "    .dataframe thead th {\n",
              "        text-align: right;\n",
              "    }\n",
              "</style>\n",
              "<table border=\"1\" class=\"dataframe\">\n",
              "  <thead>\n",
              "    <tr style=\"text-align: right;\">\n",
              "      <th></th>\n",
              "      <th>0</th>\n",
              "      <th>1</th>\n",
              "      <th>sumary</th>\n",
              "    </tr>\n",
              "  </thead>\n",
              "  <tbody>\n",
              "    <tr>\n",
              "      <th>0</th>\n",
              "      <td>A Nightmare on Elm Street</td>\n",
              "      <td>1984</td>\n",
              "      <td>\\nThe monstrous spirit of a slain child murder...</td>\n",
              "    </tr>\n",
              "    <tr>\n",
              "      <th>1</th>\n",
              "      <td>Awakenings</td>\n",
              "      <td>1990</td>\n",
              "      <td>\\nThe victims of an encephalitis epidemic many...</td>\n",
              "    </tr>\n",
              "    <tr>\n",
              "      <th>2</th>\n",
              "      <td>A League of Their Own</td>\n",
              "      <td>1992</td>\n",
              "      <td>\\nTwo sisters join the first female profession...</td>\n",
              "    </tr>\n",
              "    <tr>\n",
              "      <th>3</th>\n",
              "      <td>A Bronx Tale</td>\n",
              "      <td>1993</td>\n",
              "      <td>\\nA father becomes worried when a local gangst...</td>\n",
              "    </tr>\n",
              "    <tr>\n",
              "      <th>4</th>\n",
              "      <td>Angels in the Outfield</td>\n",
              "      <td>1994</td>\n",
              "      <td>\\nWhen a boy prays for a chance to have a fami...</td>\n",
              "    </tr>\n",
              "    <tr>\n",
              "      <th>5</th>\n",
              "      <td>A Time to Kill</td>\n",
              "      <td>1996</td>\n",
              "      <td>\\nIn Canton, Mississippi, a fearless young law...</td>\n",
              "    </tr>\n",
              "    <tr>\n",
              "      <th>6</th>\n",
              "      <td>Amistad</td>\n",
              "      <td>1997</td>\n",
              "      <td>\\nIn 1839, the revolt of Mende captives aboard...</td>\n",
              "    </tr>\n",
              "    <tr>\n",
              "      <th>7</th>\n",
              "      <td>Anaconda</td>\n",
              "      <td>1997</td>\n",
              "      <td>\\nA \"National Geographic\" film crew is taken h...</td>\n",
              "    </tr>\n",
              "    <tr>\n",
              "      <th>8</th>\n",
              "      <td>A Cool, Dry Place</td>\n",
              "      <td>1998</td>\n",
              "      <td>\\nRussell, single father balances his work as ...</td>\n",
              "    </tr>\n",
              "    <tr>\n",
              "      <th>9</th>\n",
              "      <td>American History X</td>\n",
              "      <td>1998</td>\n",
              "      <td>\\nA former neo-nazi skinhead tries to prevent ...</td>\n",
              "    </tr>\n",
              "  </tbody>\n",
              "</table>\n",
              "</div>"
            ],
            "text/plain": [
              "                           0  ...                                             sumary\n",
              "0  A Nightmare on Elm Street  ...  \\nThe monstrous spirit of a slain child murder...\n",
              "1                 Awakenings  ...  \\nThe victims of an encephalitis epidemic many...\n",
              "2      A League of Their Own  ...  \\nTwo sisters join the first female profession...\n",
              "3               A Bronx Tale  ...  \\nA father becomes worried when a local gangst...\n",
              "4     Angels in the Outfield  ...  \\nWhen a boy prays for a chance to have a fami...\n",
              "5             A Time to Kill  ...  \\nIn Canton, Mississippi, a fearless young law...\n",
              "6                    Amistad  ...  \\nIn 1839, the revolt of Mende captives aboard...\n",
              "7                   Anaconda  ...  \\nA \"National Geographic\" film crew is taken h...\n",
              "8          A Cool, Dry Place  ...  \\nRussell, single father balances his work as ...\n",
              "9         American History X  ...  \\nA former neo-nazi skinhead tries to prevent ...\n",
              "\n",
              "[10 rows x 3 columns]"
            ]
          },
          "metadata": {},
          "execution_count": 366
        }
      ]
    },
    {
      "cell_type": "markdown",
      "metadata": {
        "id": "nxgpFc_tviUX"
      },
      "source": [
        "## Bonus"
      ]
    },
    {
      "cell_type": "markdown",
      "metadata": {
        "id": "rsbwBLG4viUX"
      },
      "source": [
        "#### Find the live weather report (temperature, wind speed, description and weather) of a given city."
      ]
    },
    {
      "cell_type": "code",
      "metadata": {
        "id": "q8ICiDxQviUX"
      },
      "source": [
        "#https://openweathermap.org/current\n",
        "city = input('Enter the city: ')\n",
        "url = 'http://api.openweathermap.org/data/2.5/weather?'+'q='+city+'&APPID=b35975e18dc93725acb092f7272cc6b8&units=metric'"
      ],
      "execution_count": null,
      "outputs": []
    },
    {
      "cell_type": "code",
      "metadata": {
        "id": "vrVnayJSviUY"
      },
      "source": [
        "# your code here"
      ],
      "execution_count": null,
      "outputs": []
    },
    {
      "cell_type": "markdown",
      "metadata": {
        "id": "iNkQozUqviUY"
      },
      "source": [
        "#### Find the book name, price and stock availability as a pandas dataframe."
      ]
    },
    {
      "cell_type": "code",
      "metadata": {
        "id": "5QQ8qygeviUY"
      },
      "source": [
        "# This is the url you will scrape in this exercise. \n",
        "# It is a fictional bookstore created to be scraped. \n",
        "url = 'http://books.toscrape.com/'"
      ],
      "execution_count": null,
      "outputs": []
    },
    {
      "cell_type": "code",
      "metadata": {
        "id": "6rKRiC1UviUY"
      },
      "source": [
        "# your code here"
      ],
      "execution_count": null,
      "outputs": []
    },
    {
      "cell_type": "markdown",
      "metadata": {
        "id": "8qVNE-e8viUZ"
      },
      "source": [
        "####  Display the 100 latest earthquakes info (date, time, latitude, longitude and region name) by the EMSC as a pandas dataframe.\n",
        "***Hint:*** Here the displayed number of earthquakes per page is 20, but you can easily move to the next page by looping through the desired number of pages and adding it to the end of the url."
      ]
    },
    {
      "cell_type": "code",
      "metadata": {
        "id": "pDMv669aviUZ"
      },
      "source": [
        "# This is the url you will scrape in this exercise\n",
        "url = 'https://www.emsc-csem.org/Earthquake/?view='\n",
        "\n",
        "# This is how you will loop through each page:\n",
        "number_of_pages = int(100/20)\n",
        "each_page_urls = []\n",
        "\n",
        "for n in range(1, number_of_pages+1):\n",
        "    link = url+str(n)\n",
        "    each_page_urls.append(link)\n",
        "    \n",
        "each_page_urls"
      ],
      "execution_count": null,
      "outputs": []
    },
    {
      "cell_type": "code",
      "metadata": {
        "id": "QSIQAnPMviUZ"
      },
      "source": [
        "# your code here"
      ],
      "execution_count": null,
      "outputs": []
    }
  ]
}